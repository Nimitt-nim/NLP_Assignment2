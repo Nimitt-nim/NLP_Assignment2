{
  "cells": [
    {
      "cell_type": "code",
      "execution_count": null,
      "metadata": {
        "colab": {
          "base_uri": "https://localhost:8080/"
        },
        "id": "rPbjVNHs4r_v",
        "outputId": "6f9dd377-46ef-458e-9fbc-fdfa14ec133b"
      },
      "outputs": [],
      "source": [
        "from google.colab import drive\n",
        "drive.mount('/content/drive')"
      ]
    },
    {
      "cell_type": "code",
      "execution_count": null,
      "metadata": {
        "id": "t3FjNSieg8Mb"
      },
      "outputs": [],
      "source": [
        "from transformers import AutoModelForCausalLM, GemmaConfig, AutoTokenizer, AutoModel, MistralConfig, MistralModel, MistralForCausalLM, LlamaConfig, LlamaForCausalLM\n",
        "import torch\n",
        "import torch.nn as nn\n",
        "import torch.nn.init as init\n",
        "import json\n",
        "import pickle\n",
        "import pandas as pd\n",
        "import sys\n",
        "from transformers import Trainer, TrainingArguments"
      ]
    },
    {
      "cell_type": "code",
      "execution_count": null,
      "metadata": {
        "id": "sA_RRPO25V6-"
      },
      "outputs": [],
      "source": [
        "from transformers import LlamaForCausalLM, AutoTokenizer, Trainer, TrainingArguments\n",
        "\n",
        "checkpoint_path = \"/content/drive/MyDrive/NLP/model1/checkpoint-7500\"  \n",
        "model = LlamaForCausalLM.from_pretrained(checkpoint_path)\n",
        "tokenizer = AutoTokenizer.from_pretrained(checkpoint_path)"
      ]
    },
    {
      "cell_type": "code",
      "execution_count": null,
      "metadata": {
        "colab": {
          "base_uri": "https://localhost:8080/"
        },
        "id": "CKofJLNm6PQv",
        "outputId": "3aa852bf-98ea-4fb5-a9f1-269e3bfaef60"
      },
      "outputs": [],
      "source": [
        "%pip install datasets"
      ]
    },
    {
      "cell_type": "code",
      "execution_count": null,
      "metadata": {
        "colab": {
          "base_uri": "https://localhost:8080/",
          "height": 49,
          "referenced_widgets": [
            "ff1e7e55ee8341608efbf0998d78d561",
            "a39ad3a314944d3fa59d85d8fcafe7f8",
            "6cbee37865a341df8f0381501049ad38",
            "8215fa94d0bb4ecf908d014f08d594d5",
            "b7630de6261c476da2313670d04f68e3",
            "9d720682d3634adc96b6a2383a5617b4",
            "0815b7d09a96455082b51ab23e3dd0b4",
            "65d09aea1bfc47658faaaaffe8d77e41",
            "0c1cd1515acb4e54bffb4fc450134a95",
            "755a26d7fa2b4f12b28b30a82a7f439e",
            "b941b592395446eaac2d289c22e7ebf4"
          ]
        },
        "id": "ZjZ5JKnQVgYG",
        "outputId": "d221fc1e-c7a8-41a7-9e05-fa591b450cdb"
      },
      "outputs": [],
      "source": [
        "from transformers import AutoTokenizer, DataCollatorForLanguageModeling\n",
        "from datasets import Dataset\n",
        "\n",
        "df = pd.read_csv(\"/content/drive/MyDrive/NLP/bengali_dataset_0.5.csv\")\n",
        "df[\"text\"] = df[\"Input\"] + \"<eos>\"\n",
        "\n",
        "dataset = Dataset.from_pandas(df)\n",
        "\n",
        "\n",
        "def tokenize_function(examples):\n",
        "    tokenized = tokenizer(\n",
        "        examples[\"text\"],\n",
        "        padding=\"max_length\",\n",
        "        truncation=True,\n",
        "        max_length=512,\n",
        "        return_tensors=\"pt\")\n",
        "    return tokenized\n",
        "\n",
        "\n",
        "tokenized_dataset = dataset.map(tokenize_function, batched=True)\n",
        "split_dataset = tokenized_dataset.train_test_split(test_size=0.1)\n",
        "train_dataset = split_dataset[\"train\"]\n",
        "eval_dataset = split_dataset[\"test\"]\n",
        "data_collator = DataCollatorForLanguageModeling(\n",
        "    tokenizer=tokenizer,\n",
        "    mlm=False\n",
        ")\n"
      ]
    },
    {
      "cell_type": "code",
      "execution_count": null,
      "metadata": {
        "colab": {
          "base_uri": "https://localhost:8080/"
        },
        "id": "MKPn7Dnp6GHV",
        "outputId": "ee4d6d98-13b3-4324-e246-e1a35b624d1a"
      },
      "outputs": [],
      "source": [
        "# Define training arguments\n",
        "training_args = TrainingArguments(\n",
        "    output_dir=\"/content/drive/MyDrive/NLP/model1\",  \n",
        "    overwrite_output_dir=True,\n",
        "    num_train_epochs=10,  \n",
        "    per_device_train_batch_size=8,\n",
        "    save_steps=500,\n",
        "    save_total_limit=2,\n",
        "    logging_steps=10,\n",
        "    learning_rate=2e-4,  \n",
        "    report_to=\"none\",  \n",
        "    resume_from_checkpoint=checkpoint_path,\n",
        ")\n",
        "\n",
        "# Initialize Trainer\n",
        "trainer = Trainer(\n",
        "    model=model,\n",
        "    args=training_args,\n",
        "    train_dataset=train_dataset,  \n",
        "    eval_dataset=eval_dataset,  \n",
        "    tokenizer=tokenizer,\n",
        "    data_collator=data_collator\n",
        ")"
      ]
    },
    {
      "cell_type": "code",
      "execution_count": null,
      "metadata": {
        "colab": {
          "base_uri": "https://localhost:8080/",
          "height": 1000
        },
        "id": "MqML6Hc06DDw",
        "outputId": "a4ac75e4-1422-4706-8314-31792ca3472b"
      },
      "outputs": [],
      "source": [
        "\n",
        "# Resume training from the checkpoint\n",
        "trainer.train(resume_from_checkpoint=checkpoint_path)"
      ]
    },
    {
      "cell_type": "code",
      "execution_count": null,
      "metadata": {
        "id": "Jkaf8PsUn8Zc"
      },
      "outputs": [],
      "source": [
        "tokenizer = AutoTokenizer.from_pretrained(\"/content/drive/MyDrive/NLP/tokenizer1\")"
      ]
    },
    {
      "cell_type": "code",
      "execution_count": null,
      "metadata": {
        "colab": {
          "base_uri": "https://localhost:8080/"
        },
        "id": "ARtf6r32n_MD",
        "outputId": "b5e6091d-ffe5-469c-8a2f-0f223e02736c"
      },
      "outputs": [],
      "source": [
        "len(tokenizer.vocab)"
      ]
    },
    {
      "cell_type": "code",
      "execution_count": null,
      "metadata": {
        "colab": {
          "base_uri": "https://localhost:8080/"
        },
        "id": "958WaeTNn_Oq",
        "outputId": "80c632d7-7b4f-4232-eedb-237c0f7f6240"
      },
      "outputs": [],
      "source": [
        "config = LlamaConfig(hidden_size=512,\n",
        "                     vocab_size=32769,\n",
        "                     num_attention_heads=8,\n",
        "                     num_key_value_heads=2,\n",
        "                     num_hidden_layers=24,\n",
        "                     intermediate_size=1024,\n",
        "                     max_position_embeddings=512)\n",
        "config"
      ]
    },
    {
      "cell_type": "code",
      "execution_count": null,
      "metadata": {
        "id": "-4enoNOHouhc"
      },
      "outputs": [],
      "source": [
        "model_mis = LlamaForCausalLM(config)"
      ]
    },
    {
      "cell_type": "code",
      "execution_count": null,
      "metadata": {
        "id": "eS2_7hLPUKUs"
      },
      "outputs": [],
      "source": [
        "for i,j in model_mis.named_parameters():\n",
        "  if j.requires_grad and len(j.size()) > 1:\n",
        "    init.xavier_uniform_(j.data)"
      ]
    },
    {
      "cell_type": "code",
      "execution_count": null,
      "metadata": {
        "id": "Y60GuQnAn_Qy"
      },
      "outputs": [],
      "source": [
        "total_param=0\n",
        "for i,j in model_mis.named_parameters():\n",
        "    total_param += j.numel()\n",
        "print(total_param/(10**6))"
      ]
    },
    {
      "cell_type": "code",
      "execution_count": null,
      "metadata": {
        "colab": {
          "base_uri": "https://localhost:8080/"
        },
        "id": "wLZozc2mUldm",
        "outputId": "f8dfb176-8ccb-49c9-fb30-aa3566555a6e"
      },
      "outputs": [],
      "source": [
        "model_mis.save_pretrained(\"/content/drive/MyDrive/NLP/model1\")\n",
        "tokenizer.save_pretrained(\"/content/drive/MyDrive/NLP/model1\")"
      ]
    },
    {
      "cell_type": "code",
      "execution_count": null,
      "metadata": {
        "id": "cH791uIo5Wwo"
      },
      "outputs": [],
      "source": [
        "%pip install datasets"
      ]
    },
    {
      "cell_type": "code",
      "execution_count": null,
      "metadata": {
        "id": "9FO6Q2amwgxI"
      },
      "outputs": [],
      "source": [
        "from datasets import Dataset, DatasetDict\n",
        "from datasets import load_dataset\n",
        "import pandas as pd"
      ]
    },
    {
      "cell_type": "code",
      "execution_count": null,
      "metadata": {
        "colab": {
          "base_uri": "https://localhost:8080/"
        },
        "id": "RsZS9uXp4hNq",
        "outputId": "6ec39252-0fbc-4e20-accf-258be05e13de"
      },
      "outputs": [],
      "source": [
        "%pip install -q bitsandbytes trl peft -U"
      ]
    },
    {
      "cell_type": "code",
      "execution_count": null,
      "metadata": {
        "id": "Hr_RArOxtEEO"
      },
      "outputs": [],
      "source": [
        "training_args = TrainingArguments(\n",
        "    output_dir=\"/content/drive/MyDrive/NLP//model1\",\n",
        "    overwrite_output_dir=True,\n",
        "    num_train_epochs=50,\n",
        "    logging_steps=10,\n",
        "    learning_rate=2e-3,\n",
        "    bf16=True,\n",
        "    do_train=True,\n",
        "    per_device_train_batch_size=8,\n",
        "    save_steps=500,\n",
        "    save_total_limit=2,\n",
        "    report_to=\"none\",\n",
        ")\n"
      ]
    },
    {
      "cell_type": "code",
      "execution_count": null,
      "metadata": {
        "colab": {
          "base_uri": "https://localhost:8080/"
        },
        "id": "mtbHmZCltEGW",
        "outputId": "bd564716-9a36-4793-c2d1-9abcbb22bc69"
      },
      "outputs": [],
      "source": [
        "# Trainer initialization\n",
        "trainer = Trainer(\n",
        "    model=model_mis,  \n",
        "    args=training_args,\n",
        "    train_dataset=train_dataset,  \n",
        "    eval_dataset=eval_dataset,  \n",
        "    tokenizer=tokenizer,  \n",
        "    data_collator=data_collator,  \n",
        ")"
      ]
    },
    {
      "cell_type": "code",
      "execution_count": null,
      "metadata": {
        "id": "CTRk3nCl5UqB"
      },
      "outputs": [],
      "source": [
        "tokenizer.pad_token = tokenizer.eos_token"
      ]
    },
    {
      "cell_type": "code",
      "execution_count": null,
      "metadata": {
        "colab": {
          "base_uri": "https://localhost:8080/",
          "height": 1000
        },
        "id": "ud-Id7hotEQl",
        "outputId": "f729313b-b789-4b90-e919-fb01fedf4926"
      },
      "outputs": [],
      "source": [
        "log_file = open(\"/content/drive/MyDrive/NLP/training_log.txt\", \"w\")\n",
        "sys.stdout = log_file\n",
        "\n",
        "trainer.train()\n",
        "\n",
        "log_file.close()\n",
        "sys.stdout = sys.__stdout__"
      ]
    },
    {
      "cell_type": "code",
      "execution_count": null,
      "metadata": {
        "colab": {
          "base_uri": "https://localhost:8080/"
        },
        "id": "wNwwSOoUu1CS",
        "outputId": "d5384e0a-7240-478a-d2fd-d93deecc3325"
      },
      "outputs": [],
      "source": [
        "trainer.save_model(\"/content/drive/MyDrive/NLP/trained_model1\")\n",
        "tokenizer.save_pretrained(\"/content/drive/MyDrive/NLP/trained_model1\")"
      ]
    }
  ],
  "metadata": {
    "accelerator": "GPU",
    "colab": {
      "gpuType": "T4",
      "provenance": []
    },
    "kernelspec": {
      "display_name": "Python 3",
      "name": "python3"
    },
    "language_info": {
      "codemirror_mode": {
        "name": "ipython",
        "version": 3
      },
      "file_extension": ".py",
      "mimetype": "text/x-python",
      "name": "python",
      "nbconvert_exporter": "python",
      "pygments_lexer": "ipython3",
      "version": "3.11.1 (v3.11.1:a7a450f84a, Dec  6 2022, 15:24:06) [Clang 13.0.0 (clang-1300.0.29.30)]"
    },
    "vscode": {
      "interpreter": {
        "hash": "aee8b7b246df8f9039afb4144a1f6fd8d2ca17a180786b69acc140d282b71a49"
      }
    },
    "widgets": {
      "application/vnd.jupyter.widget-state+json": {
        "0815b7d09a96455082b51ab23e3dd0b4": {
          "model_module": "@jupyter-widgets/controls",
          "model_module_version": "1.5.0",
          "model_name": "DescriptionStyleModel",
          "state": {
            "_model_module": "@jupyter-widgets/controls",
            "_model_module_version": "1.5.0",
            "_model_name": "DescriptionStyleModel",
            "_view_count": null,
            "_view_module": "@jupyter-widgets/base",
            "_view_module_version": "1.2.0",
            "_view_name": "StyleView",
            "description_width": ""
          }
        },
        "0c1cd1515acb4e54bffb4fc450134a95": {
          "model_module": "@jupyter-widgets/controls",
          "model_module_version": "1.5.0",
          "model_name": "ProgressStyleModel",
          "state": {
            "_model_module": "@jupyter-widgets/controls",
            "_model_module_version": "1.5.0",
            "_model_name": "ProgressStyleModel",
            "_view_count": null,
            "_view_module": "@jupyter-widgets/base",
            "_view_module_version": "1.2.0",
            "_view_name": "StyleView",
            "bar_color": null,
            "description_width": ""
          }
        },
        "65d09aea1bfc47658faaaaffe8d77e41": {
          "model_module": "@jupyter-widgets/base",
          "model_module_version": "1.2.0",
          "model_name": "LayoutModel",
          "state": {
            "_model_module": "@jupyter-widgets/base",
            "_model_module_version": "1.2.0",
            "_model_name": "LayoutModel",
            "_view_count": null,
            "_view_module": "@jupyter-widgets/base",
            "_view_module_version": "1.2.0",
            "_view_name": "LayoutView",
            "align_content": null,
            "align_items": null,
            "align_self": null,
            "border": null,
            "bottom": null,
            "display": null,
            "flex": null,
            "flex_flow": null,
            "grid_area": null,
            "grid_auto_columns": null,
            "grid_auto_flow": null,
            "grid_auto_rows": null,
            "grid_column": null,
            "grid_gap": null,
            "grid_row": null,
            "grid_template_areas": null,
            "grid_template_columns": null,
            "grid_template_rows": null,
            "height": null,
            "justify_content": null,
            "justify_items": null,
            "left": null,
            "margin": null,
            "max_height": null,
            "max_width": null,
            "min_height": null,
            "min_width": null,
            "object_fit": null,
            "object_position": null,
            "order": null,
            "overflow": null,
            "overflow_x": null,
            "overflow_y": null,
            "padding": null,
            "right": null,
            "top": null,
            "visibility": null,
            "width": null
          }
        },
        "6cbee37865a341df8f0381501049ad38": {
          "model_module": "@jupyter-widgets/controls",
          "model_module_version": "1.5.0",
          "model_name": "FloatProgressModel",
          "state": {
            "_dom_classes": [],
            "_model_module": "@jupyter-widgets/controls",
            "_model_module_version": "1.5.0",
            "_model_name": "FloatProgressModel",
            "_view_count": null,
            "_view_module": "@jupyter-widgets/controls",
            "_view_module_version": "1.5.0",
            "_view_name": "ProgressView",
            "bar_style": "success",
            "description": "",
            "description_tooltip": null,
            "layout": "IPY_MODEL_65d09aea1bfc47658faaaaffe8d77e41",
            "max": 429533,
            "min": 0,
            "orientation": "horizontal",
            "style": "IPY_MODEL_0c1cd1515acb4e54bffb4fc450134a95",
            "value": 429533
          }
        },
        "755a26d7fa2b4f12b28b30a82a7f439e": {
          "model_module": "@jupyter-widgets/base",
          "model_module_version": "1.2.0",
          "model_name": "LayoutModel",
          "state": {
            "_model_module": "@jupyter-widgets/base",
            "_model_module_version": "1.2.0",
            "_model_name": "LayoutModel",
            "_view_count": null,
            "_view_module": "@jupyter-widgets/base",
            "_view_module_version": "1.2.0",
            "_view_name": "LayoutView",
            "align_content": null,
            "align_items": null,
            "align_self": null,
            "border": null,
            "bottom": null,
            "display": null,
            "flex": null,
            "flex_flow": null,
            "grid_area": null,
            "grid_auto_columns": null,
            "grid_auto_flow": null,
            "grid_auto_rows": null,
            "grid_column": null,
            "grid_gap": null,
            "grid_row": null,
            "grid_template_areas": null,
            "grid_template_columns": null,
            "grid_template_rows": null,
            "height": null,
            "justify_content": null,
            "justify_items": null,
            "left": null,
            "margin": null,
            "max_height": null,
            "max_width": null,
            "min_height": null,
            "min_width": null,
            "object_fit": null,
            "object_position": null,
            "order": null,
            "overflow": null,
            "overflow_x": null,
            "overflow_y": null,
            "padding": null,
            "right": null,
            "top": null,
            "visibility": null,
            "width": null
          }
        },
        "8215fa94d0bb4ecf908d014f08d594d5": {
          "model_module": "@jupyter-widgets/controls",
          "model_module_version": "1.5.0",
          "model_name": "HTMLModel",
          "state": {
            "_dom_classes": [],
            "_model_module": "@jupyter-widgets/controls",
            "_model_module_version": "1.5.0",
            "_model_name": "HTMLModel",
            "_view_count": null,
            "_view_module": "@jupyter-widgets/controls",
            "_view_module_version": "1.5.0",
            "_view_name": "HTMLView",
            "description": "",
            "description_tooltip": null,
            "layout": "IPY_MODEL_755a26d7fa2b4f12b28b30a82a7f439e",
            "placeholder": "​",
            "style": "IPY_MODEL_b941b592395446eaac2d289c22e7ebf4",
            "value": " 429533/429533 [05:04&lt;00:00, 721.81 examples/s]"
          }
        },
        "9d720682d3634adc96b6a2383a5617b4": {
          "model_module": "@jupyter-widgets/base",
          "model_module_version": "1.2.0",
          "model_name": "LayoutModel",
          "state": {
            "_model_module": "@jupyter-widgets/base",
            "_model_module_version": "1.2.0",
            "_model_name": "LayoutModel",
            "_view_count": null,
            "_view_module": "@jupyter-widgets/base",
            "_view_module_version": "1.2.0",
            "_view_name": "LayoutView",
            "align_content": null,
            "align_items": null,
            "align_self": null,
            "border": null,
            "bottom": null,
            "display": null,
            "flex": null,
            "flex_flow": null,
            "grid_area": null,
            "grid_auto_columns": null,
            "grid_auto_flow": null,
            "grid_auto_rows": null,
            "grid_column": null,
            "grid_gap": null,
            "grid_row": null,
            "grid_template_areas": null,
            "grid_template_columns": null,
            "grid_template_rows": null,
            "height": null,
            "justify_content": null,
            "justify_items": null,
            "left": null,
            "margin": null,
            "max_height": null,
            "max_width": null,
            "min_height": null,
            "min_width": null,
            "object_fit": null,
            "object_position": null,
            "order": null,
            "overflow": null,
            "overflow_x": null,
            "overflow_y": null,
            "padding": null,
            "right": null,
            "top": null,
            "visibility": null,
            "width": null
          }
        },
        "a39ad3a314944d3fa59d85d8fcafe7f8": {
          "model_module": "@jupyter-widgets/controls",
          "model_module_version": "1.5.0",
          "model_name": "HTMLModel",
          "state": {
            "_dom_classes": [],
            "_model_module": "@jupyter-widgets/controls",
            "_model_module_version": "1.5.0",
            "_model_name": "HTMLModel",
            "_view_count": null,
            "_view_module": "@jupyter-widgets/controls",
            "_view_module_version": "1.5.0",
            "_view_name": "HTMLView",
            "description": "",
            "description_tooltip": null,
            "layout": "IPY_MODEL_9d720682d3634adc96b6a2383a5617b4",
            "placeholder": "​",
            "style": "IPY_MODEL_0815b7d09a96455082b51ab23e3dd0b4",
            "value": "Map: 100%"
          }
        },
        "b7630de6261c476da2313670d04f68e3": {
          "model_module": "@jupyter-widgets/base",
          "model_module_version": "1.2.0",
          "model_name": "LayoutModel",
          "state": {
            "_model_module": "@jupyter-widgets/base",
            "_model_module_version": "1.2.0",
            "_model_name": "LayoutModel",
            "_view_count": null,
            "_view_module": "@jupyter-widgets/base",
            "_view_module_version": "1.2.0",
            "_view_name": "LayoutView",
            "align_content": null,
            "align_items": null,
            "align_self": null,
            "border": null,
            "bottom": null,
            "display": null,
            "flex": null,
            "flex_flow": null,
            "grid_area": null,
            "grid_auto_columns": null,
            "grid_auto_flow": null,
            "grid_auto_rows": null,
            "grid_column": null,
            "grid_gap": null,
            "grid_row": null,
            "grid_template_areas": null,
            "grid_template_columns": null,
            "grid_template_rows": null,
            "height": null,
            "justify_content": null,
            "justify_items": null,
            "left": null,
            "margin": null,
            "max_height": null,
            "max_width": null,
            "min_height": null,
            "min_width": null,
            "object_fit": null,
            "object_position": null,
            "order": null,
            "overflow": null,
            "overflow_x": null,
            "overflow_y": null,
            "padding": null,
            "right": null,
            "top": null,
            "visibility": null,
            "width": null
          }
        },
        "b941b592395446eaac2d289c22e7ebf4": {
          "model_module": "@jupyter-widgets/controls",
          "model_module_version": "1.5.0",
          "model_name": "DescriptionStyleModel",
          "state": {
            "_model_module": "@jupyter-widgets/controls",
            "_model_module_version": "1.5.0",
            "_model_name": "DescriptionStyleModel",
            "_view_count": null,
            "_view_module": "@jupyter-widgets/base",
            "_view_module_version": "1.2.0",
            "_view_name": "StyleView",
            "description_width": ""
          }
        },
        "ff1e7e55ee8341608efbf0998d78d561": {
          "model_module": "@jupyter-widgets/controls",
          "model_module_version": "1.5.0",
          "model_name": "HBoxModel",
          "state": {
            "_dom_classes": [],
            "_model_module": "@jupyter-widgets/controls",
            "_model_module_version": "1.5.0",
            "_model_name": "HBoxModel",
            "_view_count": null,
            "_view_module": "@jupyter-widgets/controls",
            "_view_module_version": "1.5.0",
            "_view_name": "HBoxView",
            "box_style": "",
            "children": [
              "IPY_MODEL_a39ad3a314944d3fa59d85d8fcafe7f8",
              "IPY_MODEL_6cbee37865a341df8f0381501049ad38",
              "IPY_MODEL_8215fa94d0bb4ecf908d014f08d594d5"
            ],
            "layout": "IPY_MODEL_b7630de6261c476da2313670d04f68e3"
          }
        }
      }
    }
  },
  "nbformat": 4,
  "nbformat_minor": 0
}
