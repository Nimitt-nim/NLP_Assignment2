{
  "cells": [
    {
      "cell_type": "code",
      "execution_count": 1,
      "metadata": {
        "id": "t3FjNSieg8Mb"
      },
      "outputs": [],
      "source": [
        "from transformers import AutoModelForCausalLM, GemmaConfig, AutoTokenizer, AutoModel, MistralConfig, MistralModel, MistralForCausalLM, LlamaConfig, LlamaForCausalLM\n",
        "from transformers import LlamaForCausalLM, AutoTokenizer"
      ]
    },
    {
      "cell_type": "code",
      "execution_count": 7,
      "metadata": {},
      "outputs": [
        {
          "data": {
            "text/plain": [
              "LlamaForCausalLM(\n",
              "  (model): LlamaModel(\n",
              "    (embed_tokens): Embedding(32769, 512, padding_idx=0)\n",
              "    (layers): ModuleList(\n",
              "      (0-7): 8 x LlamaDecoderLayer(\n",
              "        (self_attn): LlamaSdpaAttention(\n",
              "          (q_proj): Linear(in_features=512, out_features=512, bias=False)\n",
              "          (k_proj): Linear(in_features=512, out_features=512, bias=False)\n",
              "          (v_proj): Linear(in_features=512, out_features=512, bias=False)\n",
              "          (o_proj): Linear(in_features=512, out_features=512, bias=False)\n",
              "          (rotary_emb): LlamaRotaryEmbedding()\n",
              "        )\n",
              "        (mlp): LlamaMLP(\n",
              "          (gate_proj): Linear(in_features=512, out_features=256, bias=False)\n",
              "          (up_proj): Linear(in_features=512, out_features=256, bias=False)\n",
              "          (down_proj): Linear(in_features=256, out_features=512, bias=False)\n",
              "          (act_fn): SiLU()\n",
              "        )\n",
              "        (input_layernorm): LlamaRMSNorm((512,), eps=1e-06)\n",
              "        (post_attention_layernorm): LlamaRMSNorm((512,), eps=1e-06)\n",
              "      )\n",
              "    )\n",
              "    (norm): LlamaRMSNorm((512,), eps=1e-06)\n",
              "    (rotary_emb): LlamaRotaryEmbedding()\n",
              "  )\n",
              "  (lm_head): Linear(in_features=512, out_features=32769, bias=False)\n",
              ")"
            ]
          },
          "execution_count": 7,
          "metadata": {},
          "output_type": "execute_result"
        }
      ],
      "source": [
        "model = LlamaForCausalLM.from_pretrained('/Users/nimitt/Documents/NLP/NLP_Assignment2/model1')\n",
        "tokenizer = AutoTokenizer.from_pretrained('/Users/nimitt/Documents/NLP/NLP_Assignment2/Tokenizers/Tokenizer1')\n",
        "model.eval()"
      ]
    },
    {
      "cell_type": "code",
      "execution_count": 14,
      "metadata": {},
      "outputs": [
        {
          "name": "stdout",
          "output_type": "stream",
          "text": [
            "LlamaConfig {\n",
            "  \"_attn_implementation_autoset\": true,\n",
            "  \"_name_or_path\": \"/Users/nimitt/Documents/NLP/NLP_Assignment2/model1\",\n",
            "  \"architectures\": [\n",
            "    \"LlamaForCausalLM\"\n",
            "  ],\n",
            "  \"attention_bias\": false,\n",
            "  \"attention_dropout\": 0.0,\n",
            "  \"bos_token_id\": 2,\n",
            "  \"eos_token_id\": 3,\n",
            "  \"head_dim\": 64,\n",
            "  \"hidden_act\": \"silu\",\n",
            "  \"hidden_size\": 512,\n",
            "  \"initializer_range\": 0.02,\n",
            "  \"intermediate_size\": 256,\n",
            "  \"max_position_embeddings\": 2048,\n",
            "  \"mlp_bias\": false,\n",
            "  \"model_type\": \"llama\",\n",
            "  \"num_attention_heads\": 8,\n",
            "  \"num_hidden_layers\": 8,\n",
            "  \"num_key_value_heads\": 8,\n",
            "  \"pad_token_id\": 0,\n",
            "  \"pretraining_tp\": 1,\n",
            "  \"rms_norm_eps\": 1e-06,\n",
            "  \"rope_scaling\": null,\n",
            "  \"rope_theta\": 10000.0,\n",
            "  \"tie_word_embeddings\": false,\n",
            "  \"torch_dtype\": \"float32\",\n",
            "  \"transformers_version\": \"4.46.2\",\n",
            "  \"use_cache\": true,\n",
            "  \"vocab_size\": 32769\n",
            "}\n",
            "\n"
          ]
        }
      ],
      "source": [
        "config = model.config\n",
        "print(config)"
      ]
    },
    {
      "cell_type": "code",
      "execution_count": 17,
      "metadata": {},
      "outputs": [
        {
          "data": {
            "text/plain": [
              "45098496"
            ]
          },
          "execution_count": 17,
          "metadata": {},
          "output_type": "execute_result"
        }
      ],
      "source": [
        "sum(p.numel() for p in model.parameters())\n"
      ]
    },
    {
      "cell_type": "code",
      "execution_count": 18,
      "metadata": {},
      "outputs": [],
      "source": [
        "prompts = [\n",
        "    \"সূর্যাস্তের সময়,\",\n",
        "    \"এক আকস্মিক ঝড় শহরটিকে গ্রাস করল,\",\n",
        "    \"একটি শান্ত গ্রামে,\",\n",
        "    \"প্রাচীন গ্রন্থাগারটি রহস্য ধারণ করে,\",\n",
        "    \"তারার ভরা আকাশের নিচে,\",\n",
        "    \"বনের ভিতর এক অদ্ভুত শব্দ,\",\n",
        "    \"সে পুরানো বইটি খুলে পড়ল,\",\n",
        "    \"মহিলাটি যিনি একটি গোপন কথা বলেছিলেন,\",\n",
        "    \"গোয়েন্দা ঘটনাস্থল পরীক্ষা করল,\",\n",
        "    \"মহাকাশযানটি একটি নতুন পৃথিবীতে অবতরণ করল,\"\n",
        "]"
      ]
    },
    {
      "cell_type": "code",
      "execution_count": 22,
      "metadata": {
        "id": "sA_RRPO25V6-"
      },
      "outputs": [
        {
          "name": "stdout",
          "output_type": "stream",
          "text": [
            "Prompt1:\n",
            "সূর্যাস্তের সময়,\n",
            "Generated text:\n",
            "সূর্যাস্তের সময়, পর্য্ড শহর ঈভার ধ সম্ভ পোশ বয় ১৯১ অক্টোব্ড নিউ শেষেরাভারἱ\n",
            "\n",
            "\n",
            "Prompt2:\n",
            "এক আকস্মিক ঝড় শহরটিকে গ্রাস করল,\n",
            "Generated text:\n",
            "এক আকস্মিক ঝড় শহরটিকে গ্রাস করল, খষ্ট টি জান টিিমালাোল টি আসেন। টিক্ষমতারरোল জান্ধ ডিস স্থ ভূমर্ধ মধ্যযুগ জানিয় ৮০रἱ\n",
            "\n",
            "\n",
            "Prompt3:\n",
            "একটি শান্ত গ্রামে,\n",
            "Generated text:\n",
            "একটি শান্ত গ্রামে, বল পিরামিডरἱ\n",
            "\n",
            "\n",
            "Prompt4:\n",
            "প্রাচীন গ্রন্থাগারটি রহস্য ধারণ করে,\n",
            "Generated text:\n",
            "প্রাচীন গ্রন্থাগারটি রহস্য ধারণ করে,পতে ট্রবাড়ীতে ঢাকায় তুল যম৩]ষ্ ঢাকায় লুব্লগুলুদিয়কটি ভৌতে অভিযোগগুলতে ‘ অভিযোগটিজীবনেরঙ্ প্রতিἱ\n",
            "\n",
            "\n",
            "Prompt5:\n",
            "তারার ভরা আকাশের নিচে,\n",
            "Generated text:\n",
            "তারার ভরা আকাশের নিচে, নিচে নিচে বিন নিচেক্স বািষ্ট্যাট শ্রে অনেকেটপত স্টেট মাঝẓृ অপর-ব্ল \"এইোল বসে পাশাপृ হয়।\n",
            " ছিল।\n",
            "ুরা৭২रিবাসী অলিম্প রহমানেরিবাসীষ্ শ্রেছেন, হয়।\n",
            "েন্দ্র শুক রানীẓἱ\n",
            "\n",
            "\n",
            "Prompt6:\n",
            "বনের ভিতর এক অদ্ভুত শব্দ,\n",
            "Generated text:\n",
            "বনের ভিতর এক অদ্ভুত শব্দ,रায়ীষ্ মুন ভগুলোলুদ্ধ্যাট চলেব্বোধনẓἱ\n",
            "\n",
            "\n",
            "Prompt7:\n",
            "সে পুরানো বইটি খুলে পড়ল,\n",
            "Generated text:\n",
            "সে পুরানো বইটি খুলে পড়ল,: পাশাপট বছরেবẓ বা পাশাপক্যালঊẓছ বড় পাশাপঠ যথাẓোপাধ্যষ্ পাশাপृẓায়েত গী, ডেভ পাশাপঘ (অ্ত ফ্রেঞ্চ গুরুদাস পাশাপॐ যাẓ্ষ পাশাপ বোঝ ছত্রাকেরẓবাদীদের পাশাপছ১] আলẓ ভাষাবিজ্ঞ পাশাপैẓিস পাশাপ ভয়াবহানẓ ফলক স্থান পাশাপঐ সমৃদ্ধẓ সময়েরIIἱ\n",
            "\n",
            "\n",
            "Prompt8:\n",
            "মহিলাটি যিনি একটি গোপন কথা বলেছিলেন,\n",
            "Generated text:\n",
            "মহিলাটি যিনি একটি গোপন কথা বলেছিলেন, শাহẓἱ\n",
            "\n",
            "\n",
            "Prompt9:\n",
            "গোয়েন্দা ঘটনাস্থল পরীক্ষা করল,\n",
            "Generated text:\n",
            "গোয়েন্দা ঘটনাস্থল পরীক্ষা করল, খষ্ট তিন ট্র শ্রে ৯০°াস্থ নেন পুরচ্ প্রাধান স্বপ্নἱ\n",
            "\n",
            "\n",
            "Prompt10:\n",
            "মহাকাশযানটি একটি নতুন পৃথিবীতে অবতরণ করল,\n",
            "Generated text:\n",
            "মহাকাশযানটি একটি নতুন পৃথিবীতে অবতরণ করল, না পদ্ধতিἱ\n",
            "\n",
            "\n"
          ]
        }
      ],
      "source": [
        "for i in range(len(prompts)):\n",
        "    input_ids = tokenizer(prompts[i], return_tensors=\"pt\").input_ids\n",
        "    output_ids = model.generate(\n",
        "        input_ids,\n",
        "        max_length=1000,  \n",
        "        no_repeat_ngram_size=2, \n",
        "    )\n",
        "\n",
        "    output_text = tokenizer.decode(output_ids[0], skip_special_tokens=True)\n",
        "    print(f'Prompt{i+1}:')\n",
        "    print(prompts[i])\n",
        "    print(\"Generated text:\")\n",
        "    print(output_text)\n",
        "    print('\\n')"
      ]
    },
    {
      "cell_type": "code",
      "execution_count": null,
      "metadata": {},
      "outputs": [],
      "source": [
        "model = LlamaForCausalLM.from_pretrained('/Users/nimitt/Documents/NLP/NLP_Assignment2/model')\n",
        "tokenizer = AutoTokenizer.from_pretrained('/Users/nimitt/Documents/NLP/NLP_Assignment2/Tokenizers/model')\n",
        "model.eval()"
      ]
    },
    {
      "cell_type": "code",
      "execution_count": null,
      "metadata": {},
      "outputs": [],
      "source": [
        "for i in range(len(prompts)):\n",
        "    input_ids = tokenizer(prompts[i], return_tensors=\"pt\").input_ids\n",
        "    output_ids = model.generate(\n",
        "        input_ids,\n",
        "        max_length=1000,  \n",
        "        no_repeat_ngram_size=2, \n",
        "    )\n",
        "\n",
        "    output_text = tokenizer.decode(output_ids[0], skip_special_tokens=True)\n",
        "    print(f'Prompt{i+1}:')\n",
        "    print(prompts[i])\n",
        "    print(\"Generated text:\")\n",
        "    print(output_text)\n",
        "    print('\\n')"
      ]
    }
  ],
  "metadata": {
    "accelerator": "GPU",
    "colab": {
      "gpuType": "T4",
      "provenance": []
    },
    "kernelspec": {
      "display_name": "Python 3",
      "name": "python3"
    },
    "language_info": {
      "codemirror_mode": {
        "name": "ipython",
        "version": 3
      },
      "file_extension": ".py",
      "mimetype": "text/x-python",
      "name": "python",
      "nbconvert_exporter": "python",
      "pygments_lexer": "ipython3",
      "version": "3.11.1"
    },
    "vscode": {
      "interpreter": {
        "hash": "aee8b7b246df8f9039afb4144a1f6fd8d2ca17a180786b69acc140d282b71a49"
      }
    },
    "widgets": {
      "application/vnd.jupyter.widget-state+json": {
        "0815b7d09a96455082b51ab23e3dd0b4": {
          "model_module": "@jupyter-widgets/controls",
          "model_module_version": "1.5.0",
          "model_name": "DescriptionStyleModel",
          "state": {
            "_model_module": "@jupyter-widgets/controls",
            "_model_module_version": "1.5.0",
            "_model_name": "DescriptionStyleModel",
            "_view_count": null,
            "_view_module": "@jupyter-widgets/base",
            "_view_module_version": "1.2.0",
            "_view_name": "StyleView",
            "description_width": ""
          }
        },
        "0c1cd1515acb4e54bffb4fc450134a95": {
          "model_module": "@jupyter-widgets/controls",
          "model_module_version": "1.5.0",
          "model_name": "ProgressStyleModel",
          "state": {
            "_model_module": "@jupyter-widgets/controls",
            "_model_module_version": "1.5.0",
            "_model_name": "ProgressStyleModel",
            "_view_count": null,
            "_view_module": "@jupyter-widgets/base",
            "_view_module_version": "1.2.0",
            "_view_name": "StyleView",
            "bar_color": null,
            "description_width": ""
          }
        },
        "65d09aea1bfc47658faaaaffe8d77e41": {
          "model_module": "@jupyter-widgets/base",
          "model_module_version": "1.2.0",
          "model_name": "LayoutModel",
          "state": {
            "_model_module": "@jupyter-widgets/base",
            "_model_module_version": "1.2.0",
            "_model_name": "LayoutModel",
            "_view_count": null,
            "_view_module": "@jupyter-widgets/base",
            "_view_module_version": "1.2.0",
            "_view_name": "LayoutView",
            "align_content": null,
            "align_items": null,
            "align_self": null,
            "border": null,
            "bottom": null,
            "display": null,
            "flex": null,
            "flex_flow": null,
            "grid_area": null,
            "grid_auto_columns": null,
            "grid_auto_flow": null,
            "grid_auto_rows": null,
            "grid_column": null,
            "grid_gap": null,
            "grid_row": null,
            "grid_template_areas": null,
            "grid_template_columns": null,
            "grid_template_rows": null,
            "height": null,
            "justify_content": null,
            "justify_items": null,
            "left": null,
            "margin": null,
            "max_height": null,
            "max_width": null,
            "min_height": null,
            "min_width": null,
            "object_fit": null,
            "object_position": null,
            "order": null,
            "overflow": null,
            "overflow_x": null,
            "overflow_y": null,
            "padding": null,
            "right": null,
            "top": null,
            "visibility": null,
            "width": null
          }
        },
        "6cbee37865a341df8f0381501049ad38": {
          "model_module": "@jupyter-widgets/controls",
          "model_module_version": "1.5.0",
          "model_name": "FloatProgressModel",
          "state": {
            "_dom_classes": [],
            "_model_module": "@jupyter-widgets/controls",
            "_model_module_version": "1.5.0",
            "_model_name": "FloatProgressModel",
            "_view_count": null,
            "_view_module": "@jupyter-widgets/controls",
            "_view_module_version": "1.5.0",
            "_view_name": "ProgressView",
            "bar_style": "success",
            "description": "",
            "description_tooltip": null,
            "layout": "IPY_MODEL_65d09aea1bfc47658faaaaffe8d77e41",
            "max": 429533,
            "min": 0,
            "orientation": "horizontal",
            "style": "IPY_MODEL_0c1cd1515acb4e54bffb4fc450134a95",
            "value": 429533
          }
        },
        "755a26d7fa2b4f12b28b30a82a7f439e": {
          "model_module": "@jupyter-widgets/base",
          "model_module_version": "1.2.0",
          "model_name": "LayoutModel",
          "state": {
            "_model_module": "@jupyter-widgets/base",
            "_model_module_version": "1.2.0",
            "_model_name": "LayoutModel",
            "_view_count": null,
            "_view_module": "@jupyter-widgets/base",
            "_view_module_version": "1.2.0",
            "_view_name": "LayoutView",
            "align_content": null,
            "align_items": null,
            "align_self": null,
            "border": null,
            "bottom": null,
            "display": null,
            "flex": null,
            "flex_flow": null,
            "grid_area": null,
            "grid_auto_columns": null,
            "grid_auto_flow": null,
            "grid_auto_rows": null,
            "grid_column": null,
            "grid_gap": null,
            "grid_row": null,
            "grid_template_areas": null,
            "grid_template_columns": null,
            "grid_template_rows": null,
            "height": null,
            "justify_content": null,
            "justify_items": null,
            "left": null,
            "margin": null,
            "max_height": null,
            "max_width": null,
            "min_height": null,
            "min_width": null,
            "object_fit": null,
            "object_position": null,
            "order": null,
            "overflow": null,
            "overflow_x": null,
            "overflow_y": null,
            "padding": null,
            "right": null,
            "top": null,
            "visibility": null,
            "width": null
          }
        },
        "8215fa94d0bb4ecf908d014f08d594d5": {
          "model_module": "@jupyter-widgets/controls",
          "model_module_version": "1.5.0",
          "model_name": "HTMLModel",
          "state": {
            "_dom_classes": [],
            "_model_module": "@jupyter-widgets/controls",
            "_model_module_version": "1.5.0",
            "_model_name": "HTMLModel",
            "_view_count": null,
            "_view_module": "@jupyter-widgets/controls",
            "_view_module_version": "1.5.0",
            "_view_name": "HTMLView",
            "description": "",
            "description_tooltip": null,
            "layout": "IPY_MODEL_755a26d7fa2b4f12b28b30a82a7f439e",
            "placeholder": "​",
            "style": "IPY_MODEL_b941b592395446eaac2d289c22e7ebf4",
            "value": " 429533/429533 [05:04&lt;00:00, 721.81 examples/s]"
          }
        },
        "9d720682d3634adc96b6a2383a5617b4": {
          "model_module": "@jupyter-widgets/base",
          "model_module_version": "1.2.0",
          "model_name": "LayoutModel",
          "state": {
            "_model_module": "@jupyter-widgets/base",
            "_model_module_version": "1.2.0",
            "_model_name": "LayoutModel",
            "_view_count": null,
            "_view_module": "@jupyter-widgets/base",
            "_view_module_version": "1.2.0",
            "_view_name": "LayoutView",
            "align_content": null,
            "align_items": null,
            "align_self": null,
            "border": null,
            "bottom": null,
            "display": null,
            "flex": null,
            "flex_flow": null,
            "grid_area": null,
            "grid_auto_columns": null,
            "grid_auto_flow": null,
            "grid_auto_rows": null,
            "grid_column": null,
            "grid_gap": null,
            "grid_row": null,
            "grid_template_areas": null,
            "grid_template_columns": null,
            "grid_template_rows": null,
            "height": null,
            "justify_content": null,
            "justify_items": null,
            "left": null,
            "margin": null,
            "max_height": null,
            "max_width": null,
            "min_height": null,
            "min_width": null,
            "object_fit": null,
            "object_position": null,
            "order": null,
            "overflow": null,
            "overflow_x": null,
            "overflow_y": null,
            "padding": null,
            "right": null,
            "top": null,
            "visibility": null,
            "width": null
          }
        },
        "a39ad3a314944d3fa59d85d8fcafe7f8": {
          "model_module": "@jupyter-widgets/controls",
          "model_module_version": "1.5.0",
          "model_name": "HTMLModel",
          "state": {
            "_dom_classes": [],
            "_model_module": "@jupyter-widgets/controls",
            "_model_module_version": "1.5.0",
            "_model_name": "HTMLModel",
            "_view_count": null,
            "_view_module": "@jupyter-widgets/controls",
            "_view_module_version": "1.5.0",
            "_view_name": "HTMLView",
            "description": "",
            "description_tooltip": null,
            "layout": "IPY_MODEL_9d720682d3634adc96b6a2383a5617b4",
            "placeholder": "​",
            "style": "IPY_MODEL_0815b7d09a96455082b51ab23e3dd0b4",
            "value": "Map: 100%"
          }
        },
        "b7630de6261c476da2313670d04f68e3": {
          "model_module": "@jupyter-widgets/base",
          "model_module_version": "1.2.0",
          "model_name": "LayoutModel",
          "state": {
            "_model_module": "@jupyter-widgets/base",
            "_model_module_version": "1.2.0",
            "_model_name": "LayoutModel",
            "_view_count": null,
            "_view_module": "@jupyter-widgets/base",
            "_view_module_version": "1.2.0",
            "_view_name": "LayoutView",
            "align_content": null,
            "align_items": null,
            "align_self": null,
            "border": null,
            "bottom": null,
            "display": null,
            "flex": null,
            "flex_flow": null,
            "grid_area": null,
            "grid_auto_columns": null,
            "grid_auto_flow": null,
            "grid_auto_rows": null,
            "grid_column": null,
            "grid_gap": null,
            "grid_row": null,
            "grid_template_areas": null,
            "grid_template_columns": null,
            "grid_template_rows": null,
            "height": null,
            "justify_content": null,
            "justify_items": null,
            "left": null,
            "margin": null,
            "max_height": null,
            "max_width": null,
            "min_height": null,
            "min_width": null,
            "object_fit": null,
            "object_position": null,
            "order": null,
            "overflow": null,
            "overflow_x": null,
            "overflow_y": null,
            "padding": null,
            "right": null,
            "top": null,
            "visibility": null,
            "width": null
          }
        },
        "b941b592395446eaac2d289c22e7ebf4": {
          "model_module": "@jupyter-widgets/controls",
          "model_module_version": "1.5.0",
          "model_name": "DescriptionStyleModel",
          "state": {
            "_model_module": "@jupyter-widgets/controls",
            "_model_module_version": "1.5.0",
            "_model_name": "DescriptionStyleModel",
            "_view_count": null,
            "_view_module": "@jupyter-widgets/base",
            "_view_module_version": "1.2.0",
            "_view_name": "StyleView",
            "description_width": ""
          }
        },
        "ff1e7e55ee8341608efbf0998d78d561": {
          "model_module": "@jupyter-widgets/controls",
          "model_module_version": "1.5.0",
          "model_name": "HBoxModel",
          "state": {
            "_dom_classes": [],
            "_model_module": "@jupyter-widgets/controls",
            "_model_module_version": "1.5.0",
            "_model_name": "HBoxModel",
            "_view_count": null,
            "_view_module": "@jupyter-widgets/controls",
            "_view_module_version": "1.5.0",
            "_view_name": "HBoxView",
            "box_style": "",
            "children": [
              "IPY_MODEL_a39ad3a314944d3fa59d85d8fcafe7f8",
              "IPY_MODEL_6cbee37865a341df8f0381501049ad38",
              "IPY_MODEL_8215fa94d0bb4ecf908d014f08d594d5"
            ],
            "layout": "IPY_MODEL_b7630de6261c476da2313670d04f68e3"
          }
        }
      }
    }
  },
  "nbformat": 4,
  "nbformat_minor": 0
}
